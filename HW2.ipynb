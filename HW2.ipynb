{
 "cells": [
  {
   "cell_type": "markdown",
   "metadata": {},
   "source": [
    "***Part 1. Using kmers from 1-10, calculate the probability any random kmer can be created. I.e. for kmer where k = 1, p = 1/4***"
   ]
  },
  {
   "cell_type": "code",
   "execution_count": 1,
   "metadata": {},
   "outputs": [
    {
     "name": "stdout",
     "output_type": "stream",
     "text": [
      "The probability any random 1-mer can be created is 0.25\n",
      "The probability any random 2-mer can be created is 0.0625\n",
      "The probability any random 3-mer can be created is 0.015625\n",
      "The probability any random 4-mer can be created is 0.00390625\n",
      "The probability any random 5-mer can be created is 0.0009765625\n",
      "The probability any random 6-mer can be created is 0.000244140625\n",
      "The probability any random 7-mer can be created is 6.103515625e-05\n",
      "The probability any random 8-mer can be created is 1.52587890625e-05\n",
      "The probability any random 9-mer can be created is 3.814697265625e-06\n",
      "The probability any random 10-mer can be created is 9.5367431640625e-07\n"
     ]
    }
   ],
   "source": [
    "for i in range(1, 11):\n",
    "    print(\"The probability any random %s-mer can be created is %s\" % (i, 0.25 ** i))"
   ]
  },
  {
   "cell_type": "markdown",
   "metadata": {},
   "source": [
    "***Part 2. Generate 5 randomly generated strings using {A,T,C,G} as an alphabet, for each kmer from k = 1 to 10***"
   ]
  },
  {
   "cell_type": "code",
   "execution_count": 6,
   "metadata": {},
   "outputs": [
    {
     "name": "stdout",
     "output_type": "stream",
     "text": [
      "5 randomly generated strings for 1-mer:\n",
      "['C', 'A', 'T', 'G', 'A']\n",
      "\n",
      "5 randomly generated strings for 2-mer:\n",
      "['CA', 'CC', 'TG', 'GG', 'TC']\n",
      "\n",
      "5 randomly generated strings for 3-mer:\n",
      "['GGA', 'TCG', 'CAG', 'CGC', 'GTC']\n",
      "\n",
      "5 randomly generated strings for 4-mer:\n",
      "['CCGG', 'TCCA', 'AGAT', 'ATCA', 'TCTG']\n",
      "\n",
      "5 randomly generated strings for 5-mer:\n",
      "['GTGGA', 'ATGGG', 'CACCA', 'ACGCG', 'CACAC']\n",
      "\n",
      "5 randomly generated strings for 6-mer:\n",
      "['GGCACC', 'CGCTGT', 'AAAAAA', 'ACAGGG', 'TCAGTC']\n",
      "\n",
      "5 randomly generated strings for 7-mer:\n",
      "['AGCGTTA', 'AGCTAGC', 'AGATCGT', 'AAAATAT', 'GATTGCA']\n",
      "\n",
      "5 randomly generated strings for 8-mer:\n",
      "['GTGACACT', 'ACGAGCTT', 'TCTCGGTA', 'GTGAGACC', 'CGACTAGA']\n",
      "\n",
      "5 randomly generated strings for 9-mer:\n",
      "['TAGAGGCGA', 'TGGATCGAC', 'TAGTAATTG', 'GCAACTGGA', 'ATCCACAAG']\n",
      "\n",
      "5 randomly generated strings for 10-mer:\n",
      "['TACCTTTGAG', 'GACACCATTG', 'GTCCCTTGCC', 'GAAAGCGTCC', 'TATCAATGAG']\n",
      "\n"
     ]
    }
   ],
   "source": [
    "from numpy import random\n",
    "dictionary = ['A', 'T', 'C', 'G']\n",
    "random_strings = []\n",
    "\n",
    "def generate_random_kmer(k):\n",
    "    result_string = \"\"\n",
    "    for i in range(k):\n",
    "        result_string += random.choice(dictionary)\n",
    "    return result_string\n",
    "\n",
    "for i in range(1, 11):\n",
    "    random_strings.append([generate_random_kmer(i) for j in range(5)])\n",
    "    print(\"5 randomly generated strings for %s-mer:\" % (i))\n",
    "    print(random_strings[-1])\n",
    "    print()"
   ]
  },
  {
   "cell_type": "markdown",
   "metadata": {},
   "source": [
    "***Part 3. Use python to find each generated kmer in the fasta file located in ~/shared/aligners folder***"
   ]
  },
  {
   "cell_type": "code",
   "execution_count": 14,
   "metadata": {},
   "outputs": [
    {
     "name": "stdout",
     "output_type": "stream",
     "text": [
      "Indices of 5 randomly generated strings for 1-mer:\n",
      "[15, 2, 0, 1, 2]\n",
      "\n",
      "Indices of 5 randomly generated strings for 2-mer:\n",
      "[19, 21, 0, 5, 26]\n",
      "\n",
      "Indices of 5 randomly generated strings for 3-mer:\n",
      "[6, 269, 103, 196, 190]\n",
      "\n",
      "Indices of 5 randomly generated strings for 4-mer:\n",
      "[209, 248, 88, 722, 191]\n",
      "\n",
      "Indices of 5 randomly generated strings for 5-mer:\n",
      "[896, 1311, 237, -1, 672]\n",
      "\n",
      "Indices of 5 randomly generated strings for 6-mer:\n",
      "[6326, -1, 157, 2439, -1]\n",
      "\n",
      "Indices of 5 randomly generated strings for 7-mer:\n",
      "[-1, -1, -1, -1, -1]\n",
      "\n",
      "Indices of 5 randomly generated strings for 8-mer:\n",
      "[-1, -1, -1, -1, -1]\n",
      "\n",
      "Indices of 5 randomly generated strings for 9-mer:\n",
      "[-1, -1, -1, -1, 1935]\n",
      "\n",
      "Indices of 5 randomly generated strings for 10-mer:\n",
      "[-1, -1, -1, -1, -1]\n",
      "\n"
     ]
    }
   ],
   "source": [
    "f = open(\"Zmay_chr_9-P-94283818.fa\", 'r')\n",
    "f.readline() # exclude the header\n",
    "sequence = f.readline()\n",
    "find_results = []\n",
    "\n",
    "def find(haystack, needle):\n",
    "    table = len(needle) * [0]\n",
    "    index = 0\n",
    "    \n",
    "    # get table\n",
    "    prefix_len = 0\n",
    "    cursor = 1\n",
    "    while cursor < len(needle):\n",
    "        if needle[cursor] == needle[prefix_len]:\n",
    "            prefix_len += 1\n",
    "            table[cursor] = prefix_len\n",
    "            cursor += 1\n",
    "        else:\n",
    "            if prefix_len == 0:\n",
    "                table[cursor] = 0\n",
    "                cursor += 1\n",
    "            else:\n",
    "                prefix_len = table[prefix_len - 1]\n",
    "                \n",
    "    i, j = 0, 0 # i for haystack, j for needle\n",
    "    while i < len(haystack):\n",
    "        if needle[j] == haystack[i]:\n",
    "            i += 1\n",
    "            j += 1\n",
    "        if j == len(needle):\n",
    "            return i - j\n",
    "        elif i < len(haystack) and not needle[j] == haystack[i]:\n",
    "            if j == 0: i += 1\n",
    "            else: j = table[j - 1]\n",
    "        \n",
    "    return -1 # not found\n",
    "\n",
    "for i in range(10):\n",
    "    find_results.append([find(sequence, random_strings[i][j]) for j in range(5)])\n",
    "    print(\"Indices of 5 randomly generated strings for %s-mer:\" % (i + 1))\n",
    "    print(find_results[-1])\n",
    "    print()"
   ]
  }
 ],
 "metadata": {
  "kernelspec": {
   "display_name": "Python 3",
   "language": "python",
   "name": "python3"
  },
  "language_info": {
   "codemirror_mode": {
    "name": "ipython",
    "version": 3
   },
   "file_extension": ".py",
   "mimetype": "text/x-python",
   "name": "python",
   "nbconvert_exporter": "python",
   "pygments_lexer": "ipython3",
   "version": "3.6.7"
  }
 },
 "nbformat": 4,
 "nbformat_minor": 2
}
